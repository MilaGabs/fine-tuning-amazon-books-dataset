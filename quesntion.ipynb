{
 "cells": [
  {
   "cell_type": "code",
   "execution_count": null,
   "metadata": {},
   "outputs": [],
   "source": [
    "%%capture\n",
    "!pip install unsloth \"xformers==0.0.28.post2\"\n",
    "!pip uninstall unsloth -y && pip install --upgrade --no-cache-dir \"unsloth[colab-new] @ git+https://github.com/unslothai/unsloth.git\"\n",
    "!pip install transformers"
   ]
  },
  {
   "cell_type": "code",
   "execution_count": null,
   "metadata": {},
   "outputs": [],
   "source": [
    "from google.colab import drive\n",
    "drive.mount('/content/drive')"
   ]
  },
  {
   "cell_type": "code",
   "execution_count": null,
   "metadata": {},
   "outputs": [],
   "source": [
    "from unsloth import FastLanguageModel\n",
    "from transformers import TextStreamer\n",
    "\n",
    "model_path = \"/content/drive/MyDrive/Colab Notebooks/unsloth_model\"\n",
    "model, tokenizer = FastLanguageModel.from_pretrained(model_path)\n",
    "model = FastLanguageModel.for_inference(model)\n",
    "model.to(\"cuda\")\n",
    "\n",
    "def generate_response(user_input):\n",
    "    alpaca_prompt = \"\"\"Below is an instruction that describes a task, paired with an input that provides further context. Write a response that appropriately completes the request.\n",
    "\n",
    "    ### Instruction:\n",
    "    {}\n",
    "\n",
    "    ### Input:\n",
    "    {}\n",
    "\n",
    "    ### Response:\n",
    "    {}\"\"\"\n",
    "\n",
    "    prompt = alpaca_prompt.format(\"SUMMARIZE THIS PRODUCTS\", user_input, \"\")\n",
    "\n",
    "    inputs = tokenizer([prompt], return_tensors=\"pt\").to(\"cuda\")\n",
    "\n",
    "    text_streamer = TextStreamer(tokenizer)\n",
    "\n",
    "    _ = model.generate(**inputs, streamer=text_streamer, max_new_tokens=128)\n",
    "\n",
    "while True:\n",
    "    user_input = input(\"Digite sua pergunta (ou 'sair' para encerrar): \")\n",
    "    if user_input.lower() == 'sair':\n",
    "        break\n",
    "    generate_response(user_input)"
   ]
  }
 ],
 "metadata": {
  "language_info": {
   "name": "python"
  }
 },
 "nbformat": 4,
 "nbformat_minor": 2
}
